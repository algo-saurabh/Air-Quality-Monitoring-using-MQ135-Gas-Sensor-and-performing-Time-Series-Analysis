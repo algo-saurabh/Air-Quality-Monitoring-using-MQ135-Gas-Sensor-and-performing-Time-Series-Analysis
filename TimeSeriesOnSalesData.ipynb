{
  "nbformat": 4,
  "nbformat_minor": 0,
  "metadata": {
    "colab": {
      "name": "TimeSeriesOnSalesData.ipynb",
      "provenance": [],
      "mount_file_id": "1E0mDLiAlsqSE9pfpnHdmcBW3LndUlPNG",
      "authorship_tag": "ABX9TyPa5GEWA9WSN5vijrCRrKCi",
      "include_colab_link": true
    },
    "kernelspec": {
      "name": "python3",
      "display_name": "Python 3"
    }
  },
  "cells": [
    {
      "cell_type": "markdown",
      "metadata": {
        "id": "view-in-github",
        "colab_type": "text"
      },
      "source": [
        "<a href=\"https://colab.research.google.com/github/algo-saurabh/Air-Quality-Monitoring-using-MQ135-Gas-Sensor-and-performing-Time-Series-Analysis/blob/master/TimeSeriesOnSalesData.ipynb\" target=\"_parent\"><img src=\"https://colab.research.google.com/assets/colab-badge.svg\" alt=\"Open In Colab\"/></a>"
      ]
    },
    {
      "cell_type": "code",
      "metadata": {
        "id": "d0OvWAsYx2mA",
        "colab_type": "code",
        "outputId": "898fd08b-dca7-4a62-c258-28cd69935e03",
        "colab": {
          "base_uri": "https://localhost:8080/",
          "height": 34
        }
      },
      "source": [
        "from google.colab import drive\n",
        "drive.mount('/gdrive')"
      ],
      "execution_count": 3,
      "outputs": [
        {
          "output_type": "stream",
          "text": [
            "Drive already mounted at /gdrive; to attempt to forcibly remount, call drive.mount(\"/gdrive\", force_remount=True).\n"
          ],
          "name": "stdout"
        }
      ]
    },
    {
      "cell_type": "code",
      "metadata": {
        "id": "iZR7m5OUZ7py",
        "colab_type": "code",
        "colab": {}
      },
      "source": [
        "import pandas as pd\n",
        "from pandas import datetime\n",
        "import matplotlib.pyplot as plt"
      ],
      "execution_count": 0,
      "outputs": []
    },
    {
      "cell_type": "code",
      "metadata": {
        "id": "lSXsmInCanHK",
        "colab_type": "code",
        "outputId": "5d2e8a29-22db-47ec-8167-51f09dbfcd98",
        "colab": {
          "base_uri": "https://localhost:8080/",
          "height": 70
        }
      },
      "source": [
        "def parser(x):\n",
        "    return datetime.strptime(x,'%d-%m-%Y')\n",
        "airqualitydata = pd.read_csv('/gdrive/My Drive/machine learning/iot/timeSeriesOnSalesData/airquality.csv',index_col=0,parse_dates=[0],date_parser=parser)"
      ],
      "execution_count": 12,
      "outputs": [
        {
          "output_type": "stream",
          "text": [
            "/usr/local/lib/python3.6/dist-packages/ipykernel_launcher.py:2: FutureWarning: The pandas.datetime class is deprecated and will be removed from pandas in a future version. Import from datetime instead.\n",
            "  \n"
          ],
          "name": "stderr"
        }
      ]
    },
    {
      "cell_type": "code",
      "metadata": {
        "id": "EtAuTepAazK5",
        "colab_type": "code",
        "outputId": "5b0e74fa-8eef-4f0b-ea62-d533475dc997",
        "colab": {
          "base_uri": "https://localhost:8080/",
          "height": 1000
        }
      },
      "source": [
        "airqualitydata"
      ],
      "execution_count": 13,
      "outputs": [
        {
          "output_type": "execute_result",
          "data": {
            "text/html": [
              "<div>\n",
              "<style scoped>\n",
              "    .dataframe tbody tr th:only-of-type {\n",
              "        vertical-align: middle;\n",
              "    }\n",
              "\n",
              "    .dataframe tbody tr th {\n",
              "        vertical-align: top;\n",
              "    }\n",
              "\n",
              "    .dataframe thead th {\n",
              "        text-align: right;\n",
              "    }\n",
              "</style>\n",
              "<table border=\"1\" class=\"dataframe\">\n",
              "  <thead>\n",
              "    <tr style=\"text-align: right;\">\n",
              "      <th></th>\n",
              "      <th>Air Quality</th>\n",
              "    </tr>\n",
              "    <tr>\n",
              "      <th>Month</th>\n",
              "      <th></th>\n",
              "    </tr>\n",
              "  </thead>\n",
              "  <tbody>\n",
              "    <tr>\n",
              "      <th>2020-02-01</th>\n",
              "      <td>266</td>\n",
              "    </tr>\n",
              "    <tr>\n",
              "      <th>2020-02-02</th>\n",
              "      <td>146</td>\n",
              "    </tr>\n",
              "    <tr>\n",
              "      <th>2020-02-03</th>\n",
              "      <td>183</td>\n",
              "    </tr>\n",
              "    <tr>\n",
              "      <th>2020-02-04</th>\n",
              "      <td>119</td>\n",
              "    </tr>\n",
              "    <tr>\n",
              "      <th>2020-02-05</th>\n",
              "      <td>180</td>\n",
              "    </tr>\n",
              "    <tr>\n",
              "      <th>2020-02-06</th>\n",
              "      <td>169</td>\n",
              "    </tr>\n",
              "    <tr>\n",
              "      <th>2020-02-07</th>\n",
              "      <td>232</td>\n",
              "    </tr>\n",
              "    <tr>\n",
              "      <th>2020-02-08</th>\n",
              "      <td>225</td>\n",
              "    </tr>\n",
              "    <tr>\n",
              "      <th>2020-02-09</th>\n",
              "      <td>193</td>\n",
              "    </tr>\n",
              "    <tr>\n",
              "      <th>2020-02-10</th>\n",
              "      <td>123</td>\n",
              "    </tr>\n",
              "    <tr>\n",
              "      <th>2020-02-11</th>\n",
              "      <td>337</td>\n",
              "    </tr>\n",
              "    <tr>\n",
              "      <th>2020-02-12</th>\n",
              "      <td>186</td>\n",
              "    </tr>\n",
              "    <tr>\n",
              "      <th>2020-02-13</th>\n",
              "      <td>194</td>\n",
              "    </tr>\n",
              "    <tr>\n",
              "      <th>2020-02-14</th>\n",
              "      <td>150</td>\n",
              "    </tr>\n",
              "    <tr>\n",
              "      <th>2020-02-15</th>\n",
              "      <td>210</td>\n",
              "    </tr>\n",
              "    <tr>\n",
              "      <th>2020-02-16</th>\n",
              "      <td>273</td>\n",
              "    </tr>\n",
              "    <tr>\n",
              "      <th>2020-02-17</th>\n",
              "      <td>191</td>\n",
              "    </tr>\n",
              "    <tr>\n",
              "      <th>2020-02-18</th>\n",
              "      <td>287</td>\n",
              "    </tr>\n",
              "    <tr>\n",
              "      <th>2020-02-19</th>\n",
              "      <td>226</td>\n",
              "    </tr>\n",
              "    <tr>\n",
              "      <th>2020-02-20</th>\n",
              "      <td>304</td>\n",
              "    </tr>\n",
              "    <tr>\n",
              "      <th>2020-02-21</th>\n",
              "      <td>290</td>\n",
              "    </tr>\n",
              "    <tr>\n",
              "      <th>2020-02-22</th>\n",
              "      <td>422</td>\n",
              "    </tr>\n",
              "    <tr>\n",
              "      <th>2020-02-23</th>\n",
              "      <td>265</td>\n",
              "    </tr>\n",
              "    <tr>\n",
              "      <th>2020-02-24</th>\n",
              "      <td>342</td>\n",
              "    </tr>\n",
              "    <tr>\n",
              "      <th>2020-02-25</th>\n",
              "      <td>340</td>\n",
              "    </tr>\n",
              "    <tr>\n",
              "      <th>2020-02-26</th>\n",
              "      <td>440</td>\n",
              "    </tr>\n",
              "    <tr>\n",
              "      <th>2020-02-27</th>\n",
              "      <td>316</td>\n",
              "    </tr>\n",
              "    <tr>\n",
              "      <th>2020-02-28</th>\n",
              "      <td>439</td>\n",
              "    </tr>\n",
              "    <tr>\n",
              "      <th>2020-02-29</th>\n",
              "      <td>401</td>\n",
              "    </tr>\n",
              "    <tr>\n",
              "      <th>2020-03-01</th>\n",
              "      <td>390</td>\n",
              "    </tr>\n",
              "    <tr>\n",
              "      <th>2020-03-02</th>\n",
              "      <td>490</td>\n",
              "    </tr>\n",
              "    <tr>\n",
              "      <th>2020-03-03</th>\n",
              "      <td>408</td>\n",
              "    </tr>\n",
              "    <tr>\n",
              "      <th>2020-03-04</th>\n",
              "      <td>490</td>\n",
              "    </tr>\n",
              "    <tr>\n",
              "      <th>2020-03-05</th>\n",
              "      <td>420</td>\n",
              "    </tr>\n",
              "    <tr>\n",
              "      <th>2020-03-07</th>\n",
              "      <td>520</td>\n",
              "    </tr>\n",
              "    <tr>\n",
              "      <th>2020-03-08</th>\n",
              "      <td>480</td>\n",
              "    </tr>\n",
              "  </tbody>\n",
              "</table>\n",
              "</div>"
            ],
            "text/plain": [
              "            Air Quality\n",
              "Month                  \n",
              "2020-02-01          266\n",
              "2020-02-02          146\n",
              "2020-02-03          183\n",
              "2020-02-04          119\n",
              "2020-02-05          180\n",
              "2020-02-06          169\n",
              "2020-02-07          232\n",
              "2020-02-08          225\n",
              "2020-02-09          193\n",
              "2020-02-10          123\n",
              "2020-02-11          337\n",
              "2020-02-12          186\n",
              "2020-02-13          194\n",
              "2020-02-14          150\n",
              "2020-02-15          210\n",
              "2020-02-16          273\n",
              "2020-02-17          191\n",
              "2020-02-18          287\n",
              "2020-02-19          226\n",
              "2020-02-20          304\n",
              "2020-02-21          290\n",
              "2020-02-22          422\n",
              "2020-02-23          265\n",
              "2020-02-24          342\n",
              "2020-02-25          340\n",
              "2020-02-26          440\n",
              "2020-02-27          316\n",
              "2020-02-28          439\n",
              "2020-02-29          401\n",
              "2020-03-01          390\n",
              "2020-03-02          490\n",
              "2020-03-03          408\n",
              "2020-03-04          490\n",
              "2020-03-05          420\n",
              "2020-03-07          520\n",
              "2020-03-08          480"
            ]
          },
          "metadata": {
            "tags": []
          },
          "execution_count": 13
        }
      ]
    },
    {
      "cell_type": "code",
      "metadata": {
        "id": "cd89lcSna0xY",
        "colab_type": "code",
        "outputId": "5cce3fad-22f1-41e7-8774-b73bc703740a",
        "colab": {
          "base_uri": "https://localhost:8080/",
          "height": 302
        }
      },
      "source": [
        "airqualitydata.plot()"
      ],
      "execution_count": 14,
      "outputs": [
        {
          "output_type": "execute_result",
          "data": {
            "text/plain": [
              "<matplotlib.axes._subplots.AxesSubplot at 0x7efe9caa69b0>"
            ]
          },
          "metadata": {
            "tags": []
          },
          "execution_count": 14
        },
        {
          "output_type": "display_data",
          "data": {
            "image/png": "[encoded data removed]",
            "text/plain": [
              "<Figure size 432x288 with 1 Axes>"
            ]
          },
          "metadata": {
            "tags": [],
            "needs_background": "light"
          }
        }
      ]
    },
    {
      "cell_type": "markdown",
      "metadata": {
        "id": "EyYY0hRHg7ES",
        "colab_type": "text"
      },
      "source": [
        "## Checking Stationarity of Data \n",
        "meaning: mean, variance and covariance is constant over period."
      ]
    },
    {
      "cell_type": "code",
      "metadata": {
        "id": "kQEL4Cnchmb5",
        "colab_type": "code",
        "outputId": "1c4a9bc1-2763-4533-dea1-225729e48bdd",
        "colab": {
          "base_uri": "https://localhost:8080/",
          "height": 598
        }
      },
      "source": [
        "from statsmodels.graphics.tsaplots import plot_acf\n",
        "plot_acf(airqualitydata)"
      ],
      "execution_count": 15,
      "outputs": [
        {
          "output_type": "stream",
          "text": [
            "/usr/local/lib/python3.6/dist-packages/statsmodels/tools/_testing.py:19: FutureWarning: pandas.util.testing is deprecated. Use the functions in the public API at pandas.testing instead.\n",
            "  import pandas.util.testing as tm\n"
          ],
          "name": "stderr"
        },
        {
          "output_type": "execute_result",
          "data": {
            "image/png": "[encoded data removed]",
            "text/plain": [
              "<Figure size 432x288 with 1 Axes>"
            ]
          },
          "metadata": {
            "tags": []
          },
          "execution_count": 15
        },
        {
          "output_type": "display_data",
          "data": {
            "image/png": "[encoded data removed]",
            "text/plain": [
              "<Figure size 432x288 with 1 Axes>"
            ]
          },
          "metadata": {
            "tags": [],
            "needs_background": "light"
          }
        }
      ]
    },
    {
      "cell_type": "code",
      "metadata": {
        "id": "rhnS2rvXe6hS",
        "colab_type": "code",
        "colab": {}
      },
      "source": [
        "### converting series to stationary\n",
        "\n",
        "airqualitydata_diff = airqualitydata.diff(periods=1)\n",
        "# integrated of order 1, denoted by d(for diff) , one of the paramter of ARIMA Model"
      ],
      "execution_count": 0,
      "outputs": []
    },
    {
      "cell_type": "code",
      "metadata": {
        "id": "O1cRLVTihQD2",
        "colab_type": "code",
        "outputId": "dce52289-21c5-4dfd-fa08-a07dd376d7ad",
        "colab": {
          "base_uri": "https://localhost:8080/",
          "height": 225
        }
      },
      "source": [
        "airqualitydata_diff = airqualitydata_diff[1:]\n",
        "airqualitydata_diff.head()"
      ],
      "execution_count": 17,
      "outputs": [
        {
          "output_type": "execute_result",
          "data": {
            "text/html": [
              "<div>\n",
              "<style scoped>\n",
              "    .dataframe tbody tr th:only-of-type {\n",
              "        vertical-align: middle;\n",
              "    }\n",
              "\n",
              "    .dataframe tbody tr th {\n",
              "        vertical-align: top;\n",
              "    }\n",
              "\n",
              "    .dataframe thead th {\n",
              "        text-align: right;\n",
              "    }\n",
              "</style>\n",
              "<table border=\"1\" class=\"dataframe\">\n",
              "  <thead>\n",
              "    <tr style=\"text-align: right;\">\n",
              "      <th></th>\n",
              "      <th>Air Quality</th>\n",
              "    </tr>\n",
              "    <tr>\n",
              "      <th>Month</th>\n",
              "      <th></th>\n",
              "    </tr>\n",
              "  </thead>\n",
              "  <tbody>\n",
              "    <tr>\n",
              "      <th>2020-02-02</th>\n",
              "      <td>-120.0</td>\n",
              "    </tr>\n",
              "    <tr>\n",
              "      <th>2020-02-03</th>\n",
              "      <td>37.0</td>\n",
              "    </tr>\n",
              "    <tr>\n",
              "      <th>2020-02-04</th>\n",
              "      <td>-64.0</td>\n",
              "    </tr>\n",
              "    <tr>\n",
              "      <th>2020-02-05</th>\n",
              "      <td>61.0</td>\n",
              "    </tr>\n",
              "    <tr>\n",
              "      <th>2020-02-06</th>\n",
              "      <td>-11.0</td>\n",
              "    </tr>\n",
              "  </tbody>\n",
              "</table>\n",
              "</div>"
            ],
            "text/plain": [
              "            Air Quality\n",
              "Month                  \n",
              "2020-02-02       -120.0\n",
              "2020-02-03         37.0\n",
              "2020-02-04        -64.0\n",
              "2020-02-05         61.0\n",
              "2020-02-06        -11.0"
            ]
          },
          "metadata": {
            "tags": []
          },
          "execution_count": 17
        }
      ]
    },
    {
      "cell_type": "code",
      "metadata": {
        "id": "TyDtnEyQheiR",
        "colab_type": "code",
        "outputId": "36653186-1286-4182-fdd7-18ef54645282",
        "colab": {
          "base_uri": "https://localhost:8080/",
          "height": 545
        }
      },
      "source": [
        "plot_acf(airqualitydata_diff)"
      ],
      "execution_count": 18,
      "outputs": [
        {
          "output_type": "execute_result",
          "data": {
            "image/png": "[encoded data removed]",
            "text/plain": [
              "<Figure size 432x288 with 1 Axes>"
            ]
          },
          "metadata": {
            "tags": []
          },
          "execution_count": 18
        },
        {
          "output_type": "display_data",
          "data": {
            "image/png": "[encoded data removed]",
            "text/plain": [
              "<Figure size 432x288 with 1 Axes>"
            ]
          },
          "metadata": {
            "tags": [],
            "needs_background": "light"
          }
        }
      ]
    },
    {
      "cell_type": "code",
      "metadata": {
        "id": "iY9cb59YiVKB",
        "colab_type": "code",
        "outputId": "39c23f04-8a3a-4a58-e2f7-39fe063d65b8",
        "colab": {
          "base_uri": "https://localhost:8080/",
          "height": 302
        }
      },
      "source": [
        "airqualitydata_diff.plot()"
      ],
      "execution_count": 19,
      "outputs": [
        {
          "output_type": "execute_result",
          "data": {
            "text/plain": [
              "<matplotlib.axes._subplots.AxesSubplot at 0x7efe8fd85c88>"
            ]
          },
          "metadata": {
            "tags": []
          },
          "execution_count": 19
        },
        {
          "output_type": "display_data",
          "data": {
            "image/png": "[encoded data removed]",
            "text/plain": [
              "<Figure size 432x288 with 1 Axes>"
            ]
          },
          "metadata": {
            "tags": [],
            "needs_background": "light"
          }
        }
      ]
    },
    {
      "cell_type": "markdown",
      "metadata": {
        "id": "YhUQYoPQjfr6",
        "colab_type": "text"
      },
      "source": [
        "Auto Regression Model\n"
      ]
    },
    {
      "cell_type": "code",
      "metadata": {
        "id": "lbj11tcfjjqR",
        "colab_type": "code",
        "colab": {}
      },
      "source": [
        "## dividing data into train and test data\n",
        "\n",
        "X = airqualitydata.values\n",
        "train = X[0:27]  # 27data as train\n",
        "test = X[26:]  # 9 data to test\n",
        "predictions = []"
      ],
      "execution_count": 0,
      "outputs": []
    },
    {
      "cell_type": "code",
      "metadata": {
        "id": "cWOBMJbdillH",
        "colab_type": "code",
        "colab": {}
      },
      "source": [
        "from statsmodels.tsa.ar_model import AR\n",
        "from sklearn.metrics import mean_squared_error\n",
        "\n",
        "model_ar = AR(train)\n",
        "model_ar_fit = model_ar.fit()"
      ],
      "execution_count": 0,
      "outputs": []
    },
    {
      "cell_type": "code",
      "metadata": {
        "id": "SAhHE1RakPWu",
        "colab_type": "code",
        "colab": {}
      },
      "source": [
        "predictions = model_ar_fit.predict(start=26,end=36)"
      ],
      "execution_count": 0,
      "outputs": []
    },
    {
      "cell_type": "code",
      "metadata": {
        "id": "XXkTl3ilkbGV",
        "colab_type": "code",
        "outputId": "5e6a6e9b-4457-4f99-c429-950d6ac54de2",
        "colab": {
          "base_uri": "https://localhost:8080/",
          "height": 282
        }
      },
      "source": [
        "plt.plot(test)\n",
        "plt.plot(predictions,color='red')"
      ],
      "execution_count": 24,
      "outputs": [
        {
          "output_type": "execute_result",
          "data": {
            "text/plain": [
              "[<matplotlib.lines.Line2D at 0x7efe8e2ea898>]"
            ]
          },
          "metadata": {
            "tags": []
          },
          "execution_count": 24
        },
        {
          "output_type": "display_data",
          "data": {
            "image/png": "[encoded data removed]",
            "text/plain": [
              "<Figure size 432x288 with 1 Axes>"
            ]
          },
          "metadata": {
            "tags": [],
            "needs_background": "light"
          }
        }
      ]
    },
    {
      "cell_type": "markdown",
      "metadata": {
        "id": "u8VNYMsGmi8B",
        "colab_type": "text"
      },
      "source": [
        "ARIMA MODEL"
      ]
    },
    {
      "cell_type": "code",
      "metadata": {
        "id": "8NAc_WWkk67o",
        "colab_type": "code",
        "colab": {
          "base_uri": "https://localhost:8080/",
          "height": 34
        },
        "outputId": "61b1fbf4-a004-4acd-9cac-77c315719215"
      },
      "source": [
        "from statsmodels.tsa.arima_model import ARIMA\n",
        "#p,d,q   p=periods taken for autoregressive model,\n",
        "#d-> order of integrated order,\n",
        "#q = periods moving average\n",
        "model_arima = ARIMA(train,order=(9,1,0))\n",
        "model_arima_fit = model_arima.fit()\n",
        "print(model_arima_fit.aic)\n"
      ],
      "execution_count": 27,
      "outputs": [
        {
          "output_type": "stream",
          "text": [
            "299.13060488933706\n"
          ],
          "name": "stdout"
        }
      ]
    },
    {
      "cell_type": "code",
      "metadata": {
        "id": "MX5ogL09nVL4",
        "colab_type": "code",
        "outputId": "e3bd00f2-b5c9-42d0-a8c9-12a700fe30a1",
        "colab": {
          "base_uri": "https://localhost:8080/",
          "height": 67
        }
      },
      "source": [
        "predictions = model_arima_fit.forecast(steps=10)[0]\n",
        "predictions"
      ],
      "execution_count": 28,
      "outputs": [
        {
          "output_type": "execute_result",
          "data": {
            "text/plain": [
              "array([382.36197918, 346.01884105, 408.24681721, 374.59741599,\n",
              "       440.58834723, 354.09783472, 413.03903052, 415.78055279,\n",
              "       483.76022026, 393.7011254 ])"
            ]
          },
          "metadata": {
            "tags": []
          },
          "execution_count": 28
        }
      ]
    },
    {
      "cell_type": "code",
      "metadata": {
        "id": "XFd4Y_nnn7aJ",
        "colab_type": "code",
        "outputId": "a0bf2527-2e29-4577-a3f9-e31a88147173",
        "colab": {
          "base_uri": "https://localhost:8080/",
          "height": 282
        }
      },
      "source": [
        "plt.plot(test)\n",
        "plt.plot(predictions,color='red')"
      ],
      "execution_count": 29,
      "outputs": [
        {
          "output_type": "execute_result",
          "data": {
            "text/plain": [
              "[<matplotlib.lines.Line2D at 0x7efe8e1f03c8>]"
            ]
          },
          "metadata": {
            "tags": []
          },
          "execution_count": 29
        },
        {
          "output_type": "display_data",
          "data": {
            "image/png": "[encoded data removed]",
            "text/plain": [
              "<Figure size 432x288 with 1 Axes>"
            ]
          },
          "metadata": {
            "tags": [],
            "needs_background": "light"
          }
        }
      ]
    },
    {
      "cell_type": "code",
      "metadata": {
        "id": "Ul6MfVw7qpzo",
        "colab_type": "code",
        "outputId": "2f3f1094-fad8-4307-a7e5-a3647bb58178",
        "colab": {
          "base_uri": "https://localhost:8080/",
          "height": 34
        }
      },
      "source": [
        "mean_squared_error"
      ],
      "execution_count": 30,
      "outputs": [
        {
          "output_type": "execute_result",
          "data": {
            "text/plain": [
              "<function sklearn.metrics._regression.mean_squared_error>"
            ]
          },
          "metadata": {
            "tags": []
          },
          "execution_count": 30
        }
      ]
    },
    {
      "cell_type": "code",
      "metadata": {
        "id": "v0jzIp64oXmA",
        "colab_type": "code",
        "outputId": "9c5bf901-8c6b-47d2-b2c3-10ee4c7aa293",
        "colab": {
          "base_uri": "https://localhost:8080/",
          "height": 1000
        }
      },
      "source": [
        "import itertools\n",
        "p=d=q=range(0,5)\n",
        "pdq = list(itertools.product(p,d,q))\n",
        "pdq"
      ],
      "execution_count": 0,
      "outputs": [
        {
          "output_type": "execute_result",
          "data": {
            "text/plain": [
              "[(0, 0, 0),\n",
              " (0, 0, 1),\n",
              " (0, 0, 2),\n",
              " (0, 0, 3),\n",
              " (0, 0, 4),\n",
              " (0, 1, 0),\n",
              " (0, 1, 1),\n",
              " (0, 1, 2),\n",
              " (0, 1, 3),\n",
              " (0, 1, 4),\n",
              " (0, 2, 0),\n",
              " (0, 2, 1),\n",
              " (0, 2, 2),\n",
              " (0, 2, 3),\n",
              " (0, 2, 4),\n",
              " (0, 3, 0),\n",
              " (0, 3, 1),\n",
              " (0, 3, 2),\n",
              " (0, 3, 3),\n",
              " (0, 3, 4),\n",
              " (0, 4, 0),\n",
              " (0, 4, 1),\n",
              " (0, 4, 2),\n",
              " (0, 4, 3),\n",
              " (0, 4, 4),\n",
              " (1, 0, 0),\n",
              " (1, 0, 1),\n",
              " (1, 0, 2),\n",
              " (1, 0, 3),\n",
              " (1, 0, 4),\n",
              " (1, 1, 0),\n",
              " (1, 1, 1),\n",
              " (1, 1, 2),\n",
              " (1, 1, 3),\n",
              " (1, 1, 4),\n",
              " (1, 2, 0),\n",
              " (1, 2, 1),\n",
              " (1, 2, 2),\n",
              " (1, 2, 3),\n",
              " (1, 2, 4),\n",
              " (1, 3, 0),\n",
              " (1, 3, 1),\n",
              " (1, 3, 2),\n",
              " (1, 3, 3),\n",
              " (1, 3, 4),\n",
              " (1, 4, 0),\n",
              " (1, 4, 1),\n",
              " (1, 4, 2),\n",
              " (1, 4, 3),\n",
              " (1, 4, 4),\n",
              " (2, 0, 0),\n",
              " (2, 0, 1),\n",
              " (2, 0, 2),\n",
              " (2, 0, 3),\n",
              " (2, 0, 4),\n",
              " (2, 1, 0),\n",
              " (2, 1, 1),\n",
              " (2, 1, 2),\n",
              " (2, 1, 3),\n",
              " (2, 1, 4),\n",
              " (2, 2, 0),\n",
              " (2, 2, 1),\n",
              " (2, 2, 2),\n",
              " (2, 2, 3),\n",
              " (2, 2, 4),\n",
              " (2, 3, 0),\n",
              " (2, 3, 1),\n",
              " (2, 3, 2),\n",
              " (2, 3, 3),\n",
              " (2, 3, 4),\n",
              " (2, 4, 0),\n",
              " (2, 4, 1),\n",
              " (2, 4, 2),\n",
              " (2, 4, 3),\n",
              " (2, 4, 4),\n",
              " (3, 0, 0),\n",
              " (3, 0, 1),\n",
              " (3, 0, 2),\n",
              " (3, 0, 3),\n",
              " (3, 0, 4),\n",
              " (3, 1, 0),\n",
              " (3, 1, 1),\n",
              " (3, 1, 2),\n",
              " (3, 1, 3),\n",
              " (3, 1, 4),\n",
              " (3, 2, 0),\n",
              " (3, 2, 1),\n",
              " (3, 2, 2),\n",
              " (3, 2, 3),\n",
              " (3, 2, 4),\n",
              " (3, 3, 0),\n",
              " (3, 3, 1),\n",
              " (3, 3, 2),\n",
              " (3, 3, 3),\n",
              " (3, 3, 4),\n",
              " (3, 4, 0),\n",
              " (3, 4, 1),\n",
              " (3, 4, 2),\n",
              " (3, 4, 3),\n",
              " (3, 4, 4),\n",
              " (4, 0, 0),\n",
              " (4, 0, 1),\n",
              " (4, 0, 2),\n",
              " (4, 0, 3),\n",
              " (4, 0, 4),\n",
              " (4, 1, 0),\n",
              " (4, 1, 1),\n",
              " (4, 1, 2),\n",
              " (4, 1, 3),\n",
              " (4, 1, 4),\n",
              " (4, 2, 0),\n",
              " (4, 2, 1),\n",
              " (4, 2, 2),\n",
              " (4, 2, 3),\n",
              " (4, 2, 4),\n",
              " (4, 3, 0),\n",
              " (4, 3, 1),\n",
              " (4, 3, 2),\n",
              " (4, 3, 3),\n",
              " (4, 3, 4),\n",
              " (4, 4, 0),\n",
              " (4, 4, 1),\n",
              " (4, 4, 2),\n",
              " (4, 4, 3),\n",
              " (4, 4, 4)]"
            ]
          },
          "metadata": {
            "tags": []
          },
          "execution_count": 85
        }
      ]
    },
    {
      "cell_type": "code",
      "metadata": {
        "id": "uCsfmQTcpTJv",
        "colab_type": "code",
        "outputId": "c1f9712f-34c1-4418-ce4c-6e0eb7fee348",
        "colab": {
          "base_uri": "https://localhost:8080/",
          "height": 1000
        }
      },
      "source": [
        "import warnings\n",
        "warnings.filterwarnings('ignore')\n",
        "for param in pdq:\n",
        "  try:\n",
        "      model_arima = ARIMA(train,order=(4,1,0))\n",
        "      model_arima_fit = model_arima.fit()\n",
        "      print(param,model_arima_fit.aic)\n",
        "  except:\n",
        "    continue"
      ],
      "execution_count": 0,
      "outputs": [
        {
          "output_type": "stream",
          "text": [
            "(0, 0, 0) 285.78402314735104\n",
            "(0, 0, 1) 285.78402314735104\n",
            "(0, 0, 2) 285.78402314735104\n",
            "(0, 0, 3) 285.78402314735104\n",
            "(0, 0, 4) 285.78402314735104\n",
            "(0, 1, 0) 285.78402314735104\n",
            "(0, 1, 1) 285.78402314735104\n",
            "(0, 1, 2) 285.78402314735104\n",
            "(0, 1, 3) 285.78402314735104\n",
            "(0, 1, 4) 285.78402314735104\n",
            "(0, 2, 0) 285.78402314735104\n",
            "(0, 2, 1) 285.78402314735104\n",
            "(0, 2, 2) 285.78402314735104\n",
            "(0, 2, 3) 285.78402314735104\n",
            "(0, 2, 4) 285.78402314735104\n",
            "(0, 3, 0) 285.78402314735104\n",
            "(0, 3, 1) 285.78402314735104\n",
            "(0, 3, 2) 285.78402314735104\n",
            "(0, 3, 3) 285.78402314735104\n",
            "(0, 3, 4) 285.78402314735104\n",
            "(0, 4, 0) 285.78402314735104\n",
            "(0, 4, 1) 285.78402314735104\n",
            "(0, 4, 2) 285.78402314735104\n",
            "(0, 4, 3) 285.78402314735104\n",
            "(0, 4, 4) 285.78402314735104\n",
            "(1, 0, 0) 285.78402314735104\n",
            "(1, 0, 1) 285.78402314735104\n",
            "(1, 0, 2) 285.78402314735104\n",
            "(1, 0, 3) 285.78402314735104\n",
            "(1, 0, 4) 285.78402314735104\n",
            "(1, 1, 0) 285.78402314735104\n",
            "(1, 1, 1) 285.78402314735104\n",
            "(1, 1, 2) 285.78402314735104\n",
            "(1, 1, 3) 285.78402314735104\n",
            "(1, 1, 4) 285.78402314735104\n",
            "(1, 2, 0) 285.78402314735104\n",
            "(1, 2, 1) 285.78402314735104\n",
            "(1, 2, 2) 285.78402314735104\n",
            "(1, 2, 3) 285.78402314735104\n",
            "(1, 2, 4) 285.78402314735104\n",
            "(1, 3, 0) 285.78402314735104\n",
            "(1, 3, 1) 285.78402314735104\n",
            "(1, 3, 2) 285.78402314735104\n",
            "(1, 3, 3) 285.78402314735104\n",
            "(1, 3, 4) 285.78402314735104\n",
            "(1, 4, 0) 285.78402314735104\n",
            "(1, 4, 1) 285.78402314735104\n",
            "(1, 4, 2) 285.78402314735104\n",
            "(1, 4, 3) 285.78402314735104\n",
            "(1, 4, 4) 285.78402314735104\n",
            "(2, 0, 0) 285.78402314735104\n",
            "(2, 0, 1) 285.78402314735104\n",
            "(2, 0, 2) 285.78402314735104\n",
            "(2, 0, 3) 285.78402314735104\n",
            "(2, 0, 4) 285.78402314735104\n",
            "(2, 1, 0) 285.78402314735104\n",
            "(2, 1, 1) 285.78402314735104\n",
            "(2, 1, 2) 285.78402314735104\n",
            "(2, 1, 3) 285.78402314735104\n",
            "(2, 1, 4) 285.78402314735104\n",
            "(2, 2, 0) 285.78402314735104\n",
            "(2, 2, 1) 285.78402314735104\n",
            "(2, 2, 2) 285.78402314735104\n",
            "(2, 2, 3) 285.78402314735104\n",
            "(2, 2, 4) 285.78402314735104\n",
            "(2, 3, 0) 285.78402314735104\n",
            "(2, 3, 1) 285.78402314735104\n",
            "(2, 3, 2) 285.78402314735104\n",
            "(2, 3, 3) 285.78402314735104\n",
            "(2, 3, 4) 285.78402314735104\n",
            "(2, 4, 0) 285.78402314735104\n",
            "(2, 4, 1) 285.78402314735104\n",
            "(2, 4, 2) 285.78402314735104\n",
            "(2, 4, 3) 285.78402314735104\n",
            "(2, 4, 4) 285.78402314735104\n",
            "(3, 0, 0) 285.78402314735104\n",
            "(3, 0, 1) 285.78402314735104\n",
            "(3, 0, 2) 285.78402314735104\n",
            "(3, 0, 3) 285.78402314735104\n",
            "(3, 0, 4) 285.78402314735104\n",
            "(3, 1, 0) 285.78402314735104\n",
            "(3, 1, 1) 285.78402314735104\n",
            "(3, 1, 2) 285.78402314735104\n",
            "(3, 1, 3) 285.78402314735104\n",
            "(3, 1, 4) 285.78402314735104\n",
            "(3, 2, 0) 285.78402314735104\n",
            "(3, 2, 1) 285.78402314735104\n",
            "(3, 2, 2) 285.78402314735104\n",
            "(3, 2, 3) 285.78402314735104\n",
            "(3, 2, 4) 285.78402314735104\n",
            "(3, 3, 0) 285.78402314735104\n",
            "(3, 3, 1) 285.78402314735104\n",
            "(3, 3, 2) 285.78402314735104\n",
            "(3, 3, 3) 285.78402314735104\n",
            "(3, 3, 4) 285.78402314735104\n",
            "(3, 4, 0) 285.78402314735104\n",
            "(3, 4, 1) 285.78402314735104\n",
            "(3, 4, 2) 285.78402314735104\n",
            "(3, 4, 3) 285.78402314735104\n",
            "(3, 4, 4) 285.78402314735104\n",
            "(4, 0, 0) 285.78402314735104\n",
            "(4, 0, 1) 285.78402314735104\n",
            "(4, 0, 2) 285.78402314735104\n",
            "(4, 0, 3) 285.78402314735104\n",
            "(4, 0, 4) 285.78402314735104\n",
            "(4, 1, 0) 285.78402314735104\n",
            "(4, 1, 1) 285.78402314735104\n",
            "(4, 1, 2) 285.78402314735104\n",
            "(4, 1, 3) 285.78402314735104\n",
            "(4, 1, 4) 285.78402314735104\n",
            "(4, 2, 0) 285.78402314735104\n",
            "(4, 2, 1) 285.78402314735104\n",
            "(4, 2, 2) 285.78402314735104\n",
            "(4, 2, 3) 285.78402314735104\n",
            "(4, 2, 4) 285.78402314735104\n",
            "(4, 3, 0) 285.78402314735104\n",
            "(4, 3, 1) 285.78402314735104\n",
            "(4, 3, 2) 285.78402314735104\n",
            "(4, 3, 3) 285.78402314735104\n",
            "(4, 3, 4) 285.78402314735104\n",
            "(4, 4, 0) 285.78402314735104\n",
            "(4, 4, 1) 285.78402314735104\n",
            "(4, 4, 2) 285.78402314735104\n",
            "(4, 4, 3) 285.78402314735104\n",
            "(4, 4, 4) 285.78402314735104\n"
          ],
          "name": "stdout"
        }
      ]
    },
    {
      "cell_type": "code",
      "metadata": {
        "id": "8NsJutIDphDX",
        "colab_type": "code",
        "colab": {}
      },
      "source": [
        ""
      ],
      "execution_count": 0,
      "outputs": []
    }
  ]
}